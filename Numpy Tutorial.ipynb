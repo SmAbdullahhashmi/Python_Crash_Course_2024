{
 "cells": [
  {
   "cell_type": "markdown",
   "id": "7a573b79",
   "metadata": {},
   "source": [
    "## NumPy stands for Numerical Python."
   ]
  },
  {
   "cell_type": "markdown",
   "id": "966a63d3",
   "metadata": {},
   "source": [
    "### NumPy can be used to perform a wide variety of mathematical operations on arrays. It adds powerful data structures to Python that guarantee efficient calculations with arrays and matrices and it supplies an enormous library of high-level mathematical functions that operate on these arrays and matrices."
   ]
  },
  {
   "cell_type": "markdown",
   "id": "3a2af198",
   "metadata": {},
   "source": [
    "### Numpy arrays are 50-100x faster the simple python list"
   ]
  },
  {
   "cell_type": "code",
   "execution_count": 144,
   "id": "4cea1a91",
   "metadata": {},
   "outputs": [
    {
     "name": "stdout",
     "output_type": "stream",
     "text": [
      "Requirement already satisfied: numpy in c:\\users\\zawar\\anaconda3\\lib\\site-packages (1.24.3)\n"
     ]
    }
   ],
   "source": [
    "!pip install numpy"
   ]
  },
  {
   "cell_type": "code",
   "execution_count": 145,
   "id": "a7cc2ce3",
   "metadata": {},
   "outputs": [],
   "source": [
    "import numpy as np"
   ]
  },
  {
   "cell_type": "code",
   "execution_count": 146,
   "id": "8c60bd4d",
   "metadata": {},
   "outputs": [
    {
     "data": {
      "text/plain": [
       "'1.24.3'"
      ]
     },
     "execution_count": 146,
     "metadata": {},
     "output_type": "execute_result"
    }
   ],
   "source": [
    "np.__version__"
   ]
  },
  {
   "cell_type": "code",
   "execution_count": 148,
   "id": "2ee6a5fc",
   "metadata": {},
   "outputs": [
    {
     "name": "stdout",
     "output_type": "stream",
     "text": [
      "[1 2 3 4 5]\n"
     ]
    }
   ],
   "source": [
    "arr1 = np.array([1, 2, 3, 4, 5]) \n",
    "\n",
    "print(arr1)"
   ]
  },
  {
   "cell_type": "code",
   "execution_count": 167,
   "id": "3d93a689",
   "metadata": {},
   "outputs": [
    {
     "name": "stdout",
     "output_type": "stream",
     "text": [
      "[[ 1  2  3  4  5]\n",
      " [ 6  7  8  9 10]]\n"
     ]
    }
   ],
   "source": [
    "arr2 = np.array([[1, 2, 3, 4, 5], [6, 7, 8, 9, 10]]) # np.array([[1,2,3], [4,5,6]])\n",
    "\n",
    "print(arr2)"
   ]
  },
  {
   "cell_type": "code",
   "execution_count": 150,
   "id": "9d18a54d",
   "metadata": {},
   "outputs": [
    {
     "name": "stdout",
     "output_type": "stream",
     "text": [
      "[[[ 1  2  3]\n",
      "  [ 4  5  6]]\n",
      "\n",
      " [[ 7  8  9]\n",
      "  [10 11 12]]]\n"
     ]
    }
   ],
   "source": [
    "arr3 = np.array([[[1, 2, 3], [4, 5, 6]], [[7, 8, 9], [10,11, 12]]])\n",
    "print(arr3)"
   ]
  },
  {
   "cell_type": "code",
   "execution_count": 151,
   "id": "3ee2d80f",
   "metadata": {},
   "outputs": [
    {
     "name": "stdout",
     "output_type": "stream",
     "text": [
      "1\n",
      "2\n",
      "3\n"
     ]
    }
   ],
   "source": [
    "print(arr1.ndim)\n",
    "print(arr2.ndim)\n",
    "print(arr3.ndim)"
   ]
  },
  {
   "cell_type": "markdown",
   "id": "7b261814",
   "metadata": {},
   "source": [
    "## Array Indexing"
   ]
  },
  {
   "cell_type": "markdown",
   "id": "464a9ab3",
   "metadata": {},
   "source": [
    "### 1D Array"
   ]
  },
  {
   "cell_type": "code",
   "execution_count": 9,
   "id": "ff6b5331",
   "metadata": {},
   "outputs": [
    {
     "data": {
      "text/plain": [
       "array([1, 2, 3, 4, 5])"
      ]
     },
     "execution_count": 9,
     "metadata": {},
     "output_type": "execute_result"
    }
   ],
   "source": [
    "arr1"
   ]
  },
  {
   "cell_type": "code",
   "execution_count": 154,
   "id": "8ffa79af",
   "metadata": {},
   "outputs": [
    {
     "data": {
      "text/plain": [
       "1"
      ]
     },
     "execution_count": 154,
     "metadata": {},
     "output_type": "execute_result"
    }
   ],
   "source": [
    "arr1[0]"
   ]
  },
  {
   "cell_type": "code",
   "execution_count": 11,
   "id": "dfe88e1c",
   "metadata": {},
   "outputs": [
    {
     "data": {
      "text/plain": [
       "4"
      ]
     },
     "execution_count": 11,
     "metadata": {},
     "output_type": "execute_result"
    }
   ],
   "source": [
    "arr1[3]"
   ]
  },
  {
   "cell_type": "code",
   "execution_count": 155,
   "id": "cdfa02ef",
   "metadata": {},
   "outputs": [
    {
     "data": {
      "text/plain": [
       "5"
      ]
     },
     "execution_count": 155,
     "metadata": {},
     "output_type": "execute_result"
    }
   ],
   "source": [
    "arr1[4] "
   ]
  },
  {
   "cell_type": "code",
   "execution_count": 159,
   "id": "11e49f32",
   "metadata": {},
   "outputs": [
    {
     "data": {
      "text/plain": [
       "1"
      ]
     },
     "execution_count": 159,
     "metadata": {},
     "output_type": "execute_result"
    }
   ],
   "source": [
    "arr1[-5]"
   ]
  },
  {
   "cell_type": "markdown",
   "id": "e2567ddf",
   "metadata": {},
   "source": [
    "### 2D Array"
   ]
  },
  {
   "cell_type": "code",
   "execution_count": 168,
   "id": "64c7688f",
   "metadata": {},
   "outputs": [
    {
     "data": {
      "text/plain": [
       "array([[ 1,  2,  3,  4,  5],\n",
       "       [ 6,  7,  8,  9, 10]])"
      ]
     },
     "execution_count": 168,
     "metadata": {},
     "output_type": "execute_result"
    }
   ],
   "source": [
    "arr2"
   ]
  },
  {
   "cell_type": "code",
   "execution_count": 171,
   "id": "914a932c",
   "metadata": {},
   "outputs": [
    {
     "data": {
      "text/plain": [
       "8"
      ]
     },
     "execution_count": 171,
     "metadata": {},
     "output_type": "execute_result"
    }
   ],
   "source": [
    "arr2[1,2]  # arr2[row, col]"
   ]
  },
  {
   "cell_type": "code",
   "execution_count": 16,
   "id": "4f5ea60b",
   "metadata": {},
   "outputs": [
    {
     "data": {
      "text/plain": [
       "3"
      ]
     },
     "execution_count": 16,
     "metadata": {},
     "output_type": "execute_result"
    }
   ],
   "source": [
    "arr2[0,2]"
   ]
  },
  {
   "cell_type": "code",
   "execution_count": 17,
   "id": "20bc7220",
   "metadata": {},
   "outputs": [
    {
     "data": {
      "text/plain": [
       "5"
      ]
     },
     "execution_count": 17,
     "metadata": {},
     "output_type": "execute_result"
    }
   ],
   "source": [
    "arr2[1,1]"
   ]
  },
  {
   "cell_type": "code",
   "execution_count": 172,
   "id": "0a456011",
   "metadata": {},
   "outputs": [
    {
     "data": {
      "text/plain": [
       "array([[[ 1,  2,  3],\n",
       "        [ 4,  5,  6]],\n",
       "\n",
       "       [[ 7,  8,  9],\n",
       "        [10, 11, 12]]])"
      ]
     },
     "execution_count": 172,
     "metadata": {},
     "output_type": "execute_result"
    }
   ],
   "source": [
    "arr3"
   ]
  },
  {
   "cell_type": "code",
   "execution_count": 178,
   "id": "7a4ad7fc",
   "metadata": {},
   "outputs": [
    {
     "name": "stdout",
     "output_type": "stream",
     "text": [
      "11\n"
     ]
    }
   ],
   "source": [
    "print(arr3[1, 1, 1])"
   ]
  },
  {
   "cell_type": "markdown",
   "id": "de03dbda",
   "metadata": {},
   "source": [
    " ### Array Slicing"
   ]
  },
  {
   "cell_type": "code",
   "execution_count": 180,
   "id": "6d24a69e",
   "metadata": {},
   "outputs": [
    {
     "name": "stdout",
     "output_type": "stream",
     "text": [
      "[1 2 3 4 5]\n"
     ]
    }
   ],
   "source": [
    "print(arr1)"
   ]
  },
  {
   "cell_type": "code",
   "execution_count": 187,
   "id": "cbff2657",
   "metadata": {},
   "outputs": [
    {
     "name": "stdout",
     "output_type": "stream",
     "text": [
      "[1 2 3]\n"
     ]
    }
   ],
   "source": [
    "print(arr1[:3]) # arr1[start: end]  end = end-1"
   ]
  },
  {
   "cell_type": "code",
   "execution_count": 24,
   "id": "c060dfbf",
   "metadata": {},
   "outputs": [
    {
     "name": "stdout",
     "output_type": "stream",
     "text": [
      "[3 4 5]\n"
     ]
    }
   ],
   "source": [
    "print(arr1[2:])"
   ]
  },
  {
   "cell_type": "code",
   "execution_count": 25,
   "id": "0228759b",
   "metadata": {},
   "outputs": [
    {
     "name": "stdout",
     "output_type": "stream",
     "text": [
      "[1 2 3]\n"
     ]
    }
   ],
   "source": [
    "print(arr[:3])"
   ]
  },
  {
   "cell_type": "code",
   "execution_count": 27,
   "id": "66540126",
   "metadata": {},
   "outputs": [
    {
     "name": "stdout",
     "output_type": "stream",
     "text": [
      "5\n"
     ]
    }
   ],
   "source": [
    "print(arr1[-1])"
   ]
  },
  {
   "cell_type": "code",
   "execution_count": 29,
   "id": "349c02a4",
   "metadata": {},
   "outputs": [
    {
     "name": "stdout",
     "output_type": "stream",
     "text": [
      "[3 4]\n"
     ]
    }
   ],
   "source": [
    "print(arr1[-3:-1])"
   ]
  },
  {
   "cell_type": "code",
   "execution_count": 31,
   "id": "76c2815d",
   "metadata": {},
   "outputs": [
    {
     "name": "stdout",
     "output_type": "stream",
     "text": [
      "[2 4]\n"
     ]
    }
   ],
   "source": [
    "print(arr1[1:5:2])"
   ]
  },
  {
   "cell_type": "code",
   "execution_count": 32,
   "id": "d7cf3a0c",
   "metadata": {},
   "outputs": [
    {
     "name": "stdout",
     "output_type": "stream",
     "text": [
      "[1 3 5]\n"
     ]
    }
   ],
   "source": [
    "print(arr1[::2])"
   ]
  },
  {
   "cell_type": "code",
   "execution_count": 188,
   "id": "ea88467f",
   "metadata": {},
   "outputs": [
    {
     "name": "stdout",
     "output_type": "stream",
     "text": [
      "[[ 1  2  3  4  5]\n",
      " [ 6  7  8  9 10]]\n"
     ]
    }
   ],
   "source": [
    "print(arr2)"
   ]
  },
  {
   "cell_type": "code",
   "execution_count": 190,
   "id": "804330a4",
   "metadata": {},
   "outputs": [
    {
     "name": "stdout",
     "output_type": "stream",
     "text": [
      "[6 7 8]\n"
     ]
    }
   ],
   "source": [
    "print(arr2[1,0:3])"
   ]
  },
  {
   "cell_type": "code",
   "execution_count": 49,
   "id": "8e783514",
   "metadata": {},
   "outputs": [
    {
     "name": "stdout",
     "output_type": "stream",
     "text": [
      "[3 8]\n"
     ]
    }
   ],
   "source": [
    "print(arr2[0:2, 2])"
   ]
  },
  {
   "cell_type": "code",
   "execution_count": 52,
   "id": "51d9f3e1",
   "metadata": {},
   "outputs": [
    {
     "name": "stdout",
     "output_type": "stream",
     "text": [
      "[[2 3 4]\n",
      " [7 8 9]]\n"
     ]
    }
   ],
   "source": [
    "print(arr2[0:2, 1:4])"
   ]
  },
  {
   "cell_type": "markdown",
   "id": "d88174a6",
   "metadata": {},
   "source": [
    "### Data Types in Numpy"
   ]
  },
  {
   "cell_type": "code",
   "execution_count": 191,
   "id": "47539278",
   "metadata": {},
   "outputs": [
    {
     "data": {
      "text/plain": [
       "dtype('int32')"
      ]
     },
     "execution_count": 191,
     "metadata": {},
     "output_type": "execute_result"
    }
   ],
   "source": [
    "arr4 = np.array([1, 2, 3, 4])\n",
    "\n",
    "arr4.dtype"
   ]
  },
  {
   "cell_type": "code",
   "execution_count": 192,
   "id": "8266dfa1",
   "metadata": {},
   "outputs": [
    {
     "data": {
      "text/plain": [
       "dtype('<U6')"
      ]
     },
     "execution_count": 192,
     "metadata": {},
     "output_type": "execute_result"
    }
   ],
   "source": [
    "arr5 = np.array(['apple', 'banana', 'cherry'])\n",
    "\n",
    "arr5.dtype"
   ]
  },
  {
   "cell_type": "code",
   "execution_count": 194,
   "id": "4e8e8df6",
   "metadata": {},
   "outputs": [
    {
     "name": "stdout",
     "output_type": "stream",
     "text": [
      "[1.1 2.1 3.1]\n"
     ]
    }
   ],
   "source": [
    "arr6 = np.array([1.1, 2.1, 3.1])\n",
    "print(arr6)"
   ]
  },
  {
   "cell_type": "code",
   "execution_count": 197,
   "id": "e8c2c38a",
   "metadata": {},
   "outputs": [
    {
     "data": {
      "text/plain": [
       "dtype('float64')"
      ]
     },
     "execution_count": 197,
     "metadata": {},
     "output_type": "execute_result"
    }
   ],
   "source": [
    "arr6.dtype"
   ]
  },
  {
   "cell_type": "code",
   "execution_count": 199,
   "id": "ab416c71",
   "metadata": {},
   "outputs": [
    {
     "name": "stdout",
     "output_type": "stream",
     "text": [
      "[1 2 3]\n"
     ]
    }
   ],
   "source": [
    "arr6 = arr6.astype('i') # function arrayname.astype('i')\n",
    "print(arr6)"
   ]
  },
  {
   "cell_type": "code",
   "execution_count": 202,
   "id": "b2c5918f",
   "metadata": {},
   "outputs": [
    {
     "name": "stdout",
     "output_type": "stream",
     "text": [
      "[1 2 3]\n"
     ]
    }
   ],
   "source": [
    "arr7 = np.array([1.1, 2.1, 3.1], dtype='i')\n",
    "print(arr7)"
   ]
  },
  {
   "cell_type": "code",
   "execution_count": 75,
   "id": "644743bc",
   "metadata": {},
   "outputs": [
    {
     "data": {
      "text/plain": [
       "dtype('int32')"
      ]
     },
     "execution_count": 75,
     "metadata": {},
     "output_type": "execute_result"
    }
   ],
   "source": [
    "arr7.dtype"
   ]
  },
  {
   "cell_type": "markdown",
   "id": "826c9421",
   "metadata": {},
   "source": [
    "### Maths and Stats"
   ]
  },
  {
   "cell_type": "code",
   "execution_count": 205,
   "id": "0024d68e",
   "metadata": {},
   "outputs": [
    {
     "name": "stdout",
     "output_type": "stream",
     "text": [
      "90\n"
     ]
    }
   ],
   "source": [
    "# Generate a random integer from 0 to 100\n",
    "x = np.random.randint(100)\n",
    "\n",
    "print(x)"
   ]
  },
  {
   "cell_type": "code",
   "execution_count": 208,
   "id": "90990324",
   "metadata": {},
   "outputs": [
    {
     "name": "stdout",
     "output_type": "stream",
     "text": [
      "0.49054068439328213\n"
     ]
    }
   ],
   "source": [
    "# Generate a random float from 0 to 1\n",
    "y = np.random.rand()\n",
    "\n",
    "print(y)"
   ]
  },
  {
   "cell_type": "code",
   "execution_count": 211,
   "id": "aa08c019",
   "metadata": {},
   "outputs": [
    {
     "name": "stdout",
     "output_type": "stream",
     "text": [
      "[511 447 964 245 208]\n"
     ]
    }
   ],
   "source": [
    "arr8=np.random.randint(1000, size=(5))\n",
    "\n",
    "print(arr8)"
   ]
  },
  {
   "cell_type": "code",
   "execution_count": 213,
   "id": "64ceff3e",
   "metadata": {},
   "outputs": [
    {
     "name": "stdout",
     "output_type": "stream",
     "text": [
      "[[38 70 58 47 98]\n",
      " [64 42 42 23 78]\n",
      " [65 63 90 93 99]]\n"
     ]
    }
   ],
   "source": [
    "arr9 = np.random.randint(100, size=(3, 5))\n",
    "\n",
    "print(arr9)"
   ]
  },
  {
   "cell_type": "code",
   "execution_count": 214,
   "id": "0b7cc801",
   "metadata": {},
   "outputs": [
    {
     "name": "stdout",
     "output_type": "stream",
     "text": [
      "[0.57649378 0.22824087 0.59990051 0.62145336 0.43245287]\n"
     ]
    }
   ],
   "source": [
    "arr10 = np.random.rand(5)\n",
    "\n",
    "print(arr10)"
   ]
  },
  {
   "cell_type": "code",
   "execution_count": 215,
   "id": "13899d14",
   "metadata": {},
   "outputs": [
    {
     "name": "stdout",
     "output_type": "stream",
     "text": [
      "[[0.77339838 0.51889013 0.18472595 0.10186288 0.78634909]\n",
      " [0.70802365 0.83266919 0.6026774  0.84143999 0.01343227]\n",
      " [0.3199974  0.41788183 0.10676745 0.06229594 0.92756312]]\n"
     ]
    }
   ],
   "source": [
    "arr11 = random.rand(3, 5)\n",
    "\n",
    "print(arr11)"
   ]
  },
  {
   "cell_type": "code",
   "execution_count": 218,
   "id": "84072630",
   "metadata": {},
   "outputs": [
    {
     "name": "stdout",
     "output_type": "stream",
     "text": [
      "3\n"
     ]
    }
   ],
   "source": [
    "arr12 = np.random.choice([3, 5, 7, 9])\n",
    "\n",
    "print(arr12)"
   ]
  },
  {
   "cell_type": "code",
   "execution_count": 219,
   "id": "b743699d",
   "metadata": {},
   "outputs": [
    {
     "name": "stdout",
     "output_type": "stream",
     "text": [
      "[[7 3 3 9 3]\n",
      " [5 9 5 3 9]\n",
      " [7 7 3 7 9]]\n"
     ]
    }
   ],
   "source": [
    "arr13 = np.random.choice([3, 5, 7, 9], size=(3, 5))\n",
    "\n",
    "print(arr13)"
   ]
  },
  {
   "cell_type": "markdown",
   "id": "4c2b4ec5",
   "metadata": {},
   "source": [
    "### Arthimetic functions"
   ]
  },
  {
   "cell_type": "code",
   "execution_count": 98,
   "id": "9d991707",
   "metadata": {},
   "outputs": [],
   "source": [
    "arr14 = np.array([10, 11, 12, 13, 14, 15])\n",
    "arr15= np.array([20, 21, 22, 23, 24, 25])"
   ]
  },
  {
   "cell_type": "code",
   "execution_count": 220,
   "id": "c5d1f48b",
   "metadata": {},
   "outputs": [
    {
     "name": "stdout",
     "output_type": "stream",
     "text": [
      "[30 32 34 36 38 40]\n"
     ]
    }
   ],
   "source": [
    "addarr = np.add(arr14, arr15)\n",
    "\n",
    "print(addarr)"
   ]
  },
  {
   "cell_type": "code",
   "execution_count": 221,
   "id": "3d7070f2",
   "metadata": {},
   "outputs": [
    {
     "name": "stdout",
     "output_type": "stream",
     "text": [
      "[-10 -10 -10 -10 -10 -10]\n"
     ]
    }
   ],
   "source": [
    "subarr = np.subtract(arr14, arr15)\n",
    "\n",
    "print(subarr)"
   ]
  },
  {
   "cell_type": "code",
   "execution_count": 222,
   "id": "9d48da67",
   "metadata": {},
   "outputs": [
    {
     "name": "stdout",
     "output_type": "stream",
     "text": [
      "[200 231 264 299 336 375]\n"
     ]
    }
   ],
   "source": [
    "mularr = np.multiply(arr14, arr15)\n",
    "\n",
    "print(mularr)"
   ]
  },
  {
   "cell_type": "code",
   "execution_count": 223,
   "id": "f6b19bc2",
   "metadata": {},
   "outputs": [
    {
     "name": "stdout",
     "output_type": "stream",
     "text": [
      "[ 3.33333333  4.          3.          5.         25.          1.81818182]\n"
     ]
    }
   ],
   "source": [
    "arr16 = np.array([10, 20, 30, 40, 50, 60])\n",
    "arr17 = np.array([3, 5, 10, 8, 2, 33])\n",
    "divarr = np.divide(arr16, arr17)\n",
    "\n",
    "print(divarr)"
   ]
  },
  {
   "cell_type": "code",
   "execution_count": 106,
   "id": "95e453b0",
   "metadata": {},
   "outputs": [
    {
     "name": "stdout",
     "output_type": "stream",
     "text": [
      "[      1000    3200000  716276736 -520093696       2500          0]\n"
     ]
    }
   ],
   "source": [
    "powarr = np.power(arr16, arr17)\n",
    "\n",
    "print(powarr)"
   ]
  },
  {
   "cell_type": "code",
   "execution_count": 224,
   "id": "a959c043",
   "metadata": {},
   "outputs": [
    {
     "name": "stdout",
     "output_type": "stream",
     "text": [
      "[ 1  0  0  0  0 27]\n"
     ]
    }
   ],
   "source": [
    "modarr = np.mod(arr16, arr17)\n",
    "\n",
    "print(modarr)"
   ]
  },
  {
   "cell_type": "code",
   "execution_count": 225,
   "id": "26f40607",
   "metadata": {},
   "outputs": [
    {
     "name": "stdout",
     "output_type": "stream",
     "text": [
      "[3. 3.]\n"
     ]
    }
   ],
   "source": [
    "arr18 = np.floor([3.1666, 3.6667])\n",
    "\n",
    "print(arr18)"
   ]
  },
  {
   "cell_type": "code",
   "execution_count": 115,
   "id": "b0653120",
   "metadata": {},
   "outputs": [
    {
     "name": "stdout",
     "output_type": "stream",
     "text": [
      "[4. 4.]\n"
     ]
    }
   ],
   "source": [
    "arr19 = np.ceil([3.1666, 3.6667])\n",
    "\n",
    "print(arr19)"
   ]
  },
  {
   "cell_type": "markdown",
   "id": "27708c42",
   "metadata": {},
   "source": [
    "### Stats Function"
   ]
  },
  {
   "cell_type": "code",
   "execution_count": 228,
   "id": "b1e604a0",
   "metadata": {},
   "outputs": [
    {
     "name": "stdout",
     "output_type": "stream",
     "text": [
      "[2 4 6]\n"
     ]
    }
   ],
   "source": [
    "arr20 = np.array([1, 2, 3])\n",
    "arr21 = np.array([1, 2, 3])\n",
    "\n",
    "newarr = np.sum([arr20, arr21], axis=0)\n",
    "\n",
    "print(newarr)"
   ]
  },
  {
   "cell_type": "code",
   "execution_count": 229,
   "id": "96ac4d45",
   "metadata": {},
   "outputs": [
    {
     "name": "stdout",
     "output_type": "stream",
     "text": [
      "3.6\n"
     ]
    }
   ],
   "source": [
    "arr22 = np.array([1, 2, 4, 5, 6])\n",
    "mean = np.mean(arr22)\n",
    "print(mean)"
   ]
  },
  {
   "cell_type": "code",
   "execution_count": 230,
   "id": "745d4699",
   "metadata": {},
   "outputs": [
    {
     "name": "stdout",
     "output_type": "stream",
     "text": [
      "4.0\n"
     ]
    }
   ],
   "source": [
    "median = np.median(arr22)\n",
    "print(median)"
   ]
  },
  {
   "cell_type": "code",
   "execution_count": 231,
   "id": "05eb16b1",
   "metadata": {},
   "outputs": [
    {
     "name": "stdout",
     "output_type": "stream",
     "text": [
      "1\n"
     ]
    }
   ],
   "source": [
    "min_num = np.min(arr22)\n",
    "print(min_num)"
   ]
  },
  {
   "cell_type": "code",
   "execution_count": 232,
   "id": "89e8aac7",
   "metadata": {},
   "outputs": [
    {
     "name": "stdout",
     "output_type": "stream",
     "text": [
      "6\n"
     ]
    }
   ],
   "source": [
    "max_num = np.max(arr22)\n",
    "print(max_num)"
   ]
  },
  {
   "cell_type": "code",
   "execution_count": 143,
   "id": "2071949e",
   "metadata": {},
   "outputs": [
    {
     "name": "stdout",
     "output_type": "stream",
     "text": [
      "1.8547236990991407\n"
     ]
    }
   ],
   "source": [
    "std_deviation = np.std(arr22)\n",
    "print(std_deviation)"
   ]
  },
  {
   "cell_type": "code",
   "execution_count": null,
   "id": "5adc537d",
   "metadata": {},
   "outputs": [],
   "source": []
  }
 ],
 "metadata": {
  "kernelspec": {
   "display_name": "Python 3 (ipykernel)",
   "language": "python",
   "name": "python3"
  },
  "language_info": {
   "codemirror_mode": {
    "name": "ipython",
    "version": 3
   },
   "file_extension": ".py",
   "mimetype": "text/x-python",
   "name": "python",
   "nbconvert_exporter": "python",
   "pygments_lexer": "ipython3",
   "version": "3.9.18"
  }
 },
 "nbformat": 4,
 "nbformat_minor": 5
}
