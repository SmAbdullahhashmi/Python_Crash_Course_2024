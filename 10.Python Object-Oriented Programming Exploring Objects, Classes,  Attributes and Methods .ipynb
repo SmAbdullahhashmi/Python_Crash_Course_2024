{
 "cells": [
  {
   "cell_type": "markdown",
   "id": "70ab6be7",
   "metadata": {},
   "source": [
    "# Procedural Programming"
   ]
  },
  {
   "cell_type": "code",
   "execution_count": 1,
   "id": "00c53429",
   "metadata": {},
   "outputs": [
    {
     "name": "stdout",
     "output_type": "stream",
     "text": [
      "1\n",
      "2\n",
      "3\n",
      "4\n",
      "5\n",
      "6\n",
      "7\n",
      "8\n",
      "9\n"
     ]
    }
   ],
   "source": [
    "for i in range(1,10):\n",
    "    print(i)"
   ]
  },
  {
   "cell_type": "markdown",
   "id": "7d446180",
   "metadata": {},
   "source": [
    "# Object Oriented Programming (OOP)"
   ]
  },
  {
   "cell_type": "markdown",
   "id": "f56b743e",
   "metadata": {},
   "source": [
    "* Object - Variable\n",
    "* Class - Type\n",
    "* Method\n",
    "* Attribute"
   ]
  },
  {
   "cell_type": "code",
   "execution_count": 2,
   "id": "7b1a14dd",
   "metadata": {},
   "outputs": [],
   "source": [
    "# Hashmi = human() # object"
   ]
  },
  {
   "cell_type": "code",
   "execution_count": 3,
   "id": "a07c9f7f",
   "metadata": {},
   "outputs": [],
   "source": [
    "sent = \"We are on Session 10\""
   ]
  },
  {
   "cell_type": "code",
   "execution_count": 4,
   "id": "26340697",
   "metadata": {},
   "outputs": [
    {
     "data": {
      "text/plain": [
       "str"
      ]
     },
     "execution_count": 4,
     "metadata": {},
     "output_type": "execute_result"
    }
   ],
   "source": [
    "type(sent)"
   ]
  },
  {
   "cell_type": "code",
   "execution_count": 5,
   "id": "88676b6b",
   "metadata": {},
   "outputs": [
    {
     "name": "stdout",
     "output_type": "stream",
     "text": [
      "<class 'str'>\n"
     ]
    }
   ],
   "source": [
    "# object belong to class string\n",
    "print(type(sent))"
   ]
  },
  {
   "cell_type": "code",
   "execution_count": 6,
   "id": "2130591d",
   "metadata": {},
   "outputs": [],
   "source": [
    "#leo is object and class is lion\n",
    "#leo = lion()"
   ]
  },
  {
   "cell_type": "code",
   "execution_count": 7,
   "id": "cb07f33f",
   "metadata": {
    "scrolled": true
   },
   "outputs": [
    {
     "name": "stdout",
     "output_type": "stream",
     "text": [
      "<class 'list'>\n"
     ]
    }
   ],
   "source": [
    "#type of list class\n",
    "l = [1,2,3]\n",
    "\n",
    "print(type(l))"
   ]
  },
  {
   "cell_type": "code",
   "execution_count": 8,
   "id": "0b1f0300",
   "metadata": {},
   "outputs": [],
   "source": [
    "#append is the method of list class used to add value\n",
    "l.append(4)"
   ]
  },
  {
   "cell_type": "code",
   "execution_count": 9,
   "id": "82a236c1",
   "metadata": {},
   "outputs": [
    {
     "data": {
      "text/plain": [
       "[1, 2, 3, 4]"
      ]
     },
     "execution_count": 9,
     "metadata": {},
     "output_type": "execute_result"
    }
   ],
   "source": [
    "#printing variable of list\n",
    "l"
   ]
  },
  {
   "cell_type": "code",
   "execution_count": 10,
   "id": "4b6be682",
   "metadata": {},
   "outputs": [
    {
     "data": {
      "text/plain": [
       "'We are on Session 10'"
      ]
     },
     "execution_count": 10,
     "metadata": {},
     "output_type": "execute_result"
    }
   ],
   "source": [
    "sent"
   ]
  },
  {
   "cell_type": "code",
   "execution_count": 10,
   "id": "7a1221da",
   "metadata": {},
   "outputs": [
    {
     "ename": "AttributeError",
     "evalue": "'str' object has no attribute 'append'",
     "output_type": "error",
     "traceback": [
      "\u001b[1;31m---------------------------------------------------------------------------\u001b[0m",
      "\u001b[1;31mAttributeError\u001b[0m                            Traceback (most recent call last)",
      "Cell \u001b[1;32mIn[10], line 2\u001b[0m\n\u001b[0;32m      1\u001b[0m \u001b[38;5;66;03m#calling str class sent which has no attribute append\u001b[39;00m\n\u001b[1;32m----> 2\u001b[0m \u001b[43msent\u001b[49m\u001b[38;5;241;43m.\u001b[39;49m\u001b[43mappend\u001b[49m(\u001b[38;5;241m3\u001b[39m)\n",
      "\u001b[1;31mAttributeError\u001b[0m: 'str' object has no attribute 'append'"
     ]
    }
   ],
   "source": [
    "#calling str class sent which has no attribute append\n",
    "sent.append(3)"
   ]
  },
  {
   "cell_type": "code",
   "execution_count": 11,
   "id": "2ab62eae",
   "metadata": {},
   "outputs": [],
   "source": [
    "def add(a,b): # Snake case like_this\n",
    "    return a+b"
   ]
  },
  {
   "cell_type": "code",
   "execution_count": 12,
   "id": "72926a9a",
   "metadata": {},
   "outputs": [],
   "source": [
    "class Elephant: # Camel Case LikeThis\n",
    "    pass # Methods & attribute"
   ]
  },
  {
   "cell_type": "code",
   "execution_count": 13,
   "id": "67355fce",
   "metadata": {},
   "outputs": [],
   "source": [
    "string_1 = \"This the first string\" # instances - Str Class\n",
    "string_2 = \"This the second string\""
   ]
  },
  {
   "cell_type": "code",
   "execution_count": 14,
   "id": "1c8aa85c",
   "metadata": {},
   "outputs": [],
   "source": [
    "bubble = Elephant() # Creating Instance"
   ]
  },
  {
   "cell_type": "code",
   "execution_count": 15,
   "id": "6ce45a7b",
   "metadata": {},
   "outputs": [],
   "source": [
    "luna = Elephant()"
   ]
  },
  {
   "cell_type": "code",
   "execution_count": 16,
   "id": "55283567",
   "metadata": {},
   "outputs": [
    {
     "name": "stdout",
     "output_type": "stream",
     "text": [
      "<class '__main__.Elephant'>\n"
     ]
    }
   ],
   "source": [
    "print(type(luna))"
   ]
  },
  {
   "cell_type": "code",
   "execution_count": 17,
   "id": "1bd36a0f",
   "metadata": {},
   "outputs": [
    {
     "name": "stdout",
     "output_type": "stream",
     "text": [
      "<class 'int'>\n"
     ]
    }
   ],
   "source": [
    "print(type(1))"
   ]
  },
  {
   "cell_type": "code",
   "execution_count": 18,
   "id": "b9b57f46",
   "metadata": {},
   "outputs": [
    {
     "data": {
      "text/plain": [
       "['__class__',\n",
       " '__delattr__',\n",
       " '__dict__',\n",
       " '__dir__',\n",
       " '__doc__',\n",
       " '__eq__',\n",
       " '__format__',\n",
       " '__ge__',\n",
       " '__getattribute__',\n",
       " '__gt__',\n",
       " '__hash__',\n",
       " '__init__',\n",
       " '__init_subclass__',\n",
       " '__le__',\n",
       " '__lt__',\n",
       " '__module__',\n",
       " '__ne__',\n",
       " '__new__',\n",
       " '__reduce__',\n",
       " '__reduce_ex__',\n",
       " '__repr__',\n",
       " '__setattr__',\n",
       " '__sizeof__',\n",
       " '__str__',\n",
       " '__subclasshook__',\n",
       " '__weakref__']"
      ]
     },
     "execution_count": 18,
     "metadata": {},
     "output_type": "execute_result"
    }
   ],
   "source": [
    "#checking the method\n",
    "dir(luna)"
   ]
  },
  {
   "cell_type": "code",
   "execution_count": 19,
   "id": "388a9f25",
   "metadata": {},
   "outputs": [
    {
     "data": {
      "text/plain": [
       "['__add__',\n",
       " '__class__',\n",
       " '__class_getitem__',\n",
       " '__contains__',\n",
       " '__delattr__',\n",
       " '__delitem__',\n",
       " '__dir__',\n",
       " '__doc__',\n",
       " '__eq__',\n",
       " '__format__',\n",
       " '__ge__',\n",
       " '__getattribute__',\n",
       " '__getitem__',\n",
       " '__gt__',\n",
       " '__hash__',\n",
       " '__iadd__',\n",
       " '__imul__',\n",
       " '__init__',\n",
       " '__init_subclass__',\n",
       " '__iter__',\n",
       " '__le__',\n",
       " '__len__',\n",
       " '__lt__',\n",
       " '__mul__',\n",
       " '__ne__',\n",
       " '__new__',\n",
       " '__reduce__',\n",
       " '__reduce_ex__',\n",
       " '__repr__',\n",
       " '__reversed__',\n",
       " '__rmul__',\n",
       " '__setattr__',\n",
       " '__setitem__',\n",
       " '__sizeof__',\n",
       " '__str__',\n",
       " '__subclasshook__',\n",
       " 'append',\n",
       " 'clear',\n",
       " 'copy',\n",
       " 'count',\n",
       " 'extend',\n",
       " 'index',\n",
       " 'insert',\n",
       " 'pop',\n",
       " 'remove',\n",
       " 'reverse',\n",
       " 'sort']"
      ]
     },
     "execution_count": 19,
     "metadata": {},
     "output_type": "execute_result"
    }
   ],
   "source": [
    "dir(l)#checking list class method is a variable of list object"
   ]
  },
  {
   "cell_type": "code",
   "execution_count": 20,
   "id": "30029650",
   "metadata": {},
   "outputs": [
    {
     "data": {
      "text/plain": [
       "6"
      ]
     },
     "execution_count": 20,
     "metadata": {},
     "output_type": "execute_result"
    }
   ],
   "source": [
    "sum((1,2,3))\n",
    "sum([1,2,3])"
   ]
  },
  {
   "cell_type": "code",
   "execution_count": 21,
   "id": "fa1e2998",
   "metadata": {},
   "outputs": [],
   "source": [
    "#trumpet is a method of  elephant class\n",
    "class Elephant:\n",
    "    def trumpet(): # method\n",
    "        return \"Toot toot\""
   ]
  },
  {
   "cell_type": "code",
   "execution_count": 22,
   "id": "4ea0690d",
   "metadata": {},
   "outputs": [],
   "source": [
    "import csv"
   ]
  },
  {
   "cell_type": "code",
   "execution_count": 23,
   "id": "d9943a1c",
   "metadata": {},
   "outputs": [
    {
     "data": {
      "text/plain": [
       "<function _csv.reader>"
      ]
     },
     "execution_count": 23,
     "metadata": {},
     "output_type": "execute_result"
    }
   ],
   "source": [
    "csv.reader #is a method or special function of csv class"
   ]
  },
  {
   "cell_type": "code",
   "execution_count": 24,
   "id": "ff023876",
   "metadata": {},
   "outputs": [],
   "source": [
    "bubble = Elephant()"
   ]
  },
  {
   "cell_type": "code",
   "execution_count": 25,
   "id": "c0658cad",
   "metadata": {},
   "outputs": [
    {
     "ename": "TypeError",
     "evalue": "trumpet() takes 0 positional arguments but 1 was given",
     "output_type": "error",
     "traceback": [
      "\u001b[1;31m---------------------------------------------------------------------------\u001b[0m",
      "\u001b[1;31mTypeError\u001b[0m                                 Traceback (most recent call last)",
      "Cell \u001b[1;32mIn[25], line 1\u001b[0m\n\u001b[1;32m----> 1\u001b[0m \u001b[43mbubble\u001b[49m\u001b[38;5;241;43m.\u001b[39;49m\u001b[43mtrumpet\u001b[49m\u001b[43m(\u001b[49m\u001b[43m)\u001b[49m \u001b[38;5;66;03m#when you creating a method write first parameter as self otherwise it gives you typeerror\u001b[39;00m\n\u001b[0;32m      3\u001b[0m Elephant\u001b[38;5;241m.\u001b[39mtrumpet(bubble)\n",
      "\u001b[1;31mTypeError\u001b[0m: trumpet() takes 0 positional arguments but 1 was given"
     ]
    }
   ],
   "source": [
    "bubble.trumpet() #when you creating a method write first parameter as self otherwise it gives you typeerror\n",
    "\n",
    "Elephant.trumpet(bubble)"
   ]
  },
  {
   "cell_type": "code",
   "execution_count": 26,
   "id": "0c70cdd9",
   "metadata": {},
   "outputs": [],
   "source": [
    "#creating class elephant and assigned method as self into method\n",
    "class Elephant:\n",
    "    def trumpet(self): # method\n",
    "        return \"Toot toot\""
   ]
  },
  {
   "cell_type": "code",
   "execution_count": 27,
   "id": "605802a7",
   "metadata": {},
   "outputs": [
    {
     "data": {
      "text/plain": [
       "'abdullah'"
      ]
     },
     "execution_count": 27,
     "metadata": {},
     "output_type": "execute_result"
    }
   ],
   "source": [
    "name = \"Abdullah\"\n",
    "\n",
    "name.lower()"
   ]
  },
  {
   "cell_type": "code",
   "execution_count": 28,
   "id": "01a16aea",
   "metadata": {},
   "outputs": [
    {
     "data": {
      "text/plain": [
       "'abdullah'"
      ]
     },
     "execution_count": 28,
     "metadata": {},
     "output_type": "execute_result"
    }
   ],
   "source": [
    "str.lower(name)"
   ]
  },
  {
   "cell_type": "code",
   "execution_count": 29,
   "id": "a2e553a0",
   "metadata": {},
   "outputs": [
    {
     "data": {
      "text/plain": [
       "'Toot toot'"
      ]
     },
     "execution_count": 29,
     "metadata": {},
     "output_type": "execute_result"
    }
   ],
   "source": [
    "bubble = Elephant()\n",
    "bubble.trumpet()"
   ]
  },
  {
   "cell_type": "code",
   "execution_count": 30,
   "id": "00edd2c3",
   "metadata": {},
   "outputs": [],
   "source": [
    "class Lion:\n",
    "    def move(self):\n",
    "        return \"Lion is moving\""
   ]
  },
  {
   "cell_type": "code",
   "execution_count": 31,
   "id": "687f2f5e",
   "metadata": {},
   "outputs": [],
   "source": [
    "leo = Lion()"
   ]
  },
  {
   "cell_type": "code",
   "execution_count": 32,
   "id": "496c6c58",
   "metadata": {},
   "outputs": [
    {
     "data": {
      "text/plain": [
       "'Lion is moving'"
      ]
     },
     "execution_count": 32,
     "metadata": {},
     "output_type": "execute_result"
    }
   ],
   "source": [
    "leo.move()"
   ]
  },
  {
   "cell_type": "code",
   "execution_count": 33,
   "id": "b3c859e5",
   "metadata": {},
   "outputs": [],
   "source": [
    "class Elephant:\n",
    "    def trumpet(self): # method -> Special function\n",
    "        return \"Toot toot\"\n",
    "    \n",
    "    def memory(self, memory_list): #creating memory\n",
    "        return memory_list"
   ]
  },
  {
   "cell_type": "code",
   "execution_count": 34,
   "id": "47339297",
   "metadata": {},
   "outputs": [
    {
     "data": {
      "text/plain": [
       "['tree', 'Food', 'Mother']"
      ]
     },
     "execution_count": 34,
     "metadata": {},
     "output_type": "execute_result"
    }
   ],
   "source": [
    "bubble = Elephant()\n",
    "\n",
    "bubble.memory([\"tree\", \"Food\", \"Mother\"])#inserting data to memory"
   ]
  },
  {
   "cell_type": "code",
   "execution_count": 35,
   "id": "ed32bdf3",
   "metadata": {},
   "outputs": [],
   "source": [
    "class Lion:\n",
    "    def __init__(self, age): #dunder method # constructor\n",
    "         self.age= age # Attribute- Special variable"
   ]
  },
  {
   "cell_type": "code",
   "execution_count": 36,
   "id": "b449ba96",
   "metadata": {},
   "outputs": [],
   "source": [
    "leo = Lion(2)"
   ]
  },
  {
   "cell_type": "code",
   "execution_count": 37,
   "id": "f6555d86",
   "metadata": {},
   "outputs": [
    {
     "data": {
      "text/plain": [
       "2"
      ]
     },
     "execution_count": 37,
     "metadata": {},
     "output_type": "execute_result"
    }
   ],
   "source": [
    "leo.age"
   ]
  },
  {
   "cell_type": "code",
   "execution_count": 38,
   "id": "021dc01b",
   "metadata": {},
   "outputs": [
    {
     "data": {
      "text/plain": [
       "6"
      ]
     },
     "execution_count": 38,
     "metadata": {},
     "output_type": "execute_result"
    }
   ],
   "source": [
    "lia = Lion(6)\n",
    "\n",
    "lia.age"
   ]
  },
  {
   "cell_type": "code",
   "execution_count": 39,
   "id": "e0d81975",
   "metadata": {},
   "outputs": [],
   "source": [
    "class Elephant:\n",
    "    def __init__(self, favourite_food, friendliness):\n",
    "        self.food = favourite_food\n",
    "        self.friendly = friendliness\n",
    "        \n",
    "    def trumpet(self): # method -> Special function\n",
    "        return \"Toot toot\"\n",
    "    \n",
    "    def memory(self, memory_list):\n",
    "        return memory_list"
   ]
  },
  {
   "cell_type": "code",
   "execution_count": 40,
   "id": "1f1f1630",
   "metadata": {},
   "outputs": [],
   "source": [
    "bubbles = Elephant(\"Watermelon\", 70)"
   ]
  },
  {
   "cell_type": "code",
   "execution_count": 41,
   "id": "2b2d961b",
   "metadata": {},
   "outputs": [
    {
     "data": {
      "text/plain": [
       "'Watermelon'"
      ]
     },
     "execution_count": 41,
     "metadata": {},
     "output_type": "execute_result"
    }
   ],
   "source": [
    "bubbles.food"
   ]
  },
  {
   "cell_type": "code",
   "execution_count": 42,
   "id": "41bdee0c",
   "metadata": {},
   "outputs": [],
   "source": [
    "class Elephant:\n",
    "    def __init__(self, favourite_food, friendliness):\n",
    "        self.food = favourite_food\n",
    "        self.friendly = friendliness\n",
    "        \n",
    "    def trumpet(self): # method -> Special function\n",
    "        return \"Toot toot\"\n",
    "    \n",
    "    def memory(self, memory_list):\n",
    "        return memory_list\n",
    "    \n",
    "    def improve_friendliness(self, friendliness_boost):\n",
    "        self.friendly += friendliness_boost"
   ]
  },
  {
   "cell_type": "code",
   "execution_count": 43,
   "id": "da0ceaa1",
   "metadata": {},
   "outputs": [],
   "source": [
    "bubbles = Elephant(\"Watermelon\", 70)"
   ]
  },
  {
   "cell_type": "code",
   "execution_count": 44,
   "id": "8941f4fa",
   "metadata": {},
   "outputs": [
    {
     "data": {
      "text/plain": [
       "70"
      ]
     },
     "execution_count": 44,
     "metadata": {},
     "output_type": "execute_result"
    }
   ],
   "source": [
    "bubbles.friendly"
   ]
  },
  {
   "cell_type": "code",
   "execution_count": 45,
   "id": "e80a112c",
   "metadata": {},
   "outputs": [],
   "source": [
    "bubbles.friendly = 65"
   ]
  },
  {
   "cell_type": "code",
   "execution_count": 46,
   "id": "0669ecc6",
   "metadata": {},
   "outputs": [
    {
     "data": {
      "text/plain": [
       "65"
      ]
     },
     "execution_count": 46,
     "metadata": {},
     "output_type": "execute_result"
    }
   ],
   "source": [
    "bubbles.friendly"
   ]
  },
  {
   "cell_type": "code",
   "execution_count": 47,
   "id": "938b3775",
   "metadata": {},
   "outputs": [],
   "source": [
    "bubbles.improve_friendliness(22)"
   ]
  },
  {
   "cell_type": "code",
   "execution_count": 48,
   "id": "94cf64b0",
   "metadata": {},
   "outputs": [
    {
     "data": {
      "text/plain": [
       "87"
      ]
     },
     "execution_count": 48,
     "metadata": {},
     "output_type": "execute_result"
    }
   ],
   "source": [
    "bubbles.friendly"
   ]
  },
  {
   "cell_type": "code",
   "execution_count": 49,
   "id": "97b16b3b",
   "metadata": {},
   "outputs": [],
   "source": [
    "class Elephant:\n",
    "    def __init__(self, favourite_food, friendliness):\n",
    "        self.food = favourite_food\n",
    "        self.friendly = friendliness\n",
    "        \n",
    "    def trumpet(self): # method -> Special function\n",
    "        return \"Toot toot\"\n",
    "    \n",
    "    def memory(self, memory_list):\n",
    "        return memory_list\n",
    "    \n",
    "    def improve_friendliness(self, friendliness_boost):\n",
    "        self.friendly += friendliness_boost\n",
    "        \n",
    "    def display_friendliness(self):\n",
    "        return self.friendly"
   ]
  },
  {
   "cell_type": "code",
   "execution_count": 50,
   "id": "616a1ec0",
   "metadata": {},
   "outputs": [],
   "source": [
    "bubbles = Elephant(\"Watermelon\", 70)"
   ]
  },
  {
   "cell_type": "code",
   "execution_count": 51,
   "id": "70ac32b9",
   "metadata": {},
   "outputs": [
    {
     "data": {
      "text/plain": [
       "70"
      ]
     },
     "execution_count": 51,
     "metadata": {},
     "output_type": "execute_result"
    }
   ],
   "source": [
    "bubbles.friendly"
   ]
  },
  {
   "cell_type": "code",
   "execution_count": 52,
   "id": "3a7dcd11",
   "metadata": {},
   "outputs": [
    {
     "data": {
      "text/plain": [
       "70"
      ]
     },
     "execution_count": 52,
     "metadata": {},
     "output_type": "execute_result"
    }
   ],
   "source": [
    "bubbles.display_friendliness()"
   ]
  },
  {
   "cell_type": "code",
   "execution_count": 53,
   "id": "18e82886",
   "metadata": {},
   "outputs": [],
   "source": [
    "class Elephant:\n",
    "    def __init__(self, favourite_food, friendliness):\n",
    "        self.food = favourite_food\n",
    "        self.friendly = friendliness\n",
    "        self.update = 0 # defualt attribute\n",
    "        \n",
    "    def trumpet(self): # method -> Special function\n",
    "        return \"Toot toot\"\n",
    "    \n",
    "    def memory(self, memory_list):\n",
    "        return memory_list\n",
    "    \n",
    "    def improve_friendliness(self, friendliness_boost):\n",
    "        self.friendly += friendliness_boost\n",
    "        self.update += 1\n",
    "        "
   ]
  },
  {
   "cell_type": "code",
   "execution_count": 54,
   "id": "e1c1db4a",
   "metadata": {},
   "outputs": [],
   "source": [
    "dude = Elephant(\"Banana\", 30)"
   ]
  },
  {
   "cell_type": "code",
   "execution_count": 55,
   "id": "011f0c07",
   "metadata": {},
   "outputs": [],
   "source": [
    "dude.improve_friendliness(20)"
   ]
  },
  {
   "cell_type": "code",
   "execution_count": 56,
   "id": "686cf1e3",
   "metadata": {},
   "outputs": [
    {
     "data": {
      "text/plain": [
       "50"
      ]
     },
     "execution_count": 56,
     "metadata": {},
     "output_type": "execute_result"
    }
   ],
   "source": [
    "dude.friendly"
   ]
  },
  {
   "cell_type": "code",
   "execution_count": 57,
   "id": "f27cbad3",
   "metadata": {},
   "outputs": [
    {
     "data": {
      "text/plain": [
       "1"
      ]
     },
     "execution_count": 57,
     "metadata": {},
     "output_type": "execute_result"
    }
   ],
   "source": [
    "dude.update"
   ]
  },
  {
   "cell_type": "code",
   "execution_count": 58,
   "id": "22548d67",
   "metadata": {},
   "outputs": [],
   "source": [
    "dude.improve_friendliness(5)"
   ]
  },
  {
   "cell_type": "code",
   "execution_count": 59,
   "id": "c65cd50f",
   "metadata": {},
   "outputs": [
    {
     "data": {
      "text/plain": [
       "2"
      ]
     },
     "execution_count": 59,
     "metadata": {},
     "output_type": "execute_result"
    }
   ],
   "source": [
    "dude.update"
   ]
  },
  {
   "cell_type": "code",
   "execution_count": 60,
   "id": "58eeaf01",
   "metadata": {},
   "outputs": [],
   "source": [
    "# Instantiation"
   ]
  },
  {
   "cell_type": "code",
   "execution_count": 61,
   "id": "8504ab84",
   "metadata": {},
   "outputs": [
    {
     "data": {
      "text/plain": [
       "['__class__',\n",
       " '__delattr__',\n",
       " '__dict__',\n",
       " '__dir__',\n",
       " '__doc__',\n",
       " '__eq__',\n",
       " '__format__',\n",
       " '__ge__',\n",
       " '__getattribute__',\n",
       " '__gt__',\n",
       " '__hash__',\n",
       " '__init__',\n",
       " '__init_subclass__',\n",
       " '__le__',\n",
       " '__lt__',\n",
       " '__module__',\n",
       " '__ne__',\n",
       " '__new__',\n",
       " '__reduce__',\n",
       " '__reduce_ex__',\n",
       " '__repr__',\n",
       " '__setattr__',\n",
       " '__sizeof__',\n",
       " '__str__',\n",
       " '__subclasshook__',\n",
       " '__weakref__',\n",
       " 'food',\n",
       " 'friendly',\n",
       " 'improve_friendliness',\n",
       " 'memory',\n",
       " 'trumpet',\n",
       " 'update']"
      ]
     },
     "execution_count": 61,
     "metadata": {},
     "output_type": "execute_result"
    }
   ],
   "source": [
    "dir(dude)"
   ]
  },
  {
   "cell_type": "markdown",
   "id": "d64f9229-dd74-4e32-8de6-c328d0f08b88",
   "metadata": {
    "jp-MarkdownHeadingCollapsed": true
   },
   "source": [
    "## Thank You"
   ]
  }
 ],
 "metadata": {
  "kernelspec": {
   "display_name": "Python 3 (ipykernel)",
   "language": "python",
   "name": "python3"
  },
  "language_info": {
   "codemirror_mode": {
    "name": "ipython",
    "version": 3
   },
   "file_extension": ".py",
   "mimetype": "text/x-python",
   "name": "python",
   "nbconvert_exporter": "python",
   "pygments_lexer": "ipython3",
   "version": "3.9.18"
  }
 },
 "nbformat": 4,
 "nbformat_minor": 5
}
